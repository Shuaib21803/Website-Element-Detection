{
 "cells": [
  {
   "cell_type": "markdown",
   "id": "50371b41",
   "metadata": {},
   "source": [
    "**Importing Libraries**"
   ]
  },
  {
   "cell_type": "code",
   "execution_count": 1,
   "id": "1923b09f",
   "metadata": {},
   "outputs": [
    {
     "name": "stdout",
     "output_type": "stream",
     "text": [
      "WARNING:tensorflow:From C:\\ProgramData\\anaconda3\\Lib\\site-packages\\keras\\src\\losses.py:2976: The name tf.losses.sparse_softmax_cross_entropy is deprecated. Please use tf.compat.v1.losses.sparse_softmax_cross_entropy instead.\n",
      "\n"
     ]
    }
   ],
   "source": [
    "import pandas as pd\n",
    "import numpy as np\n",
    "import os\n",
    "import pandas as pd\n",
    "import cv2\n",
    "import shutil\n",
    "from tqdm import tqdm\n",
    "from tensorflow.keras.preprocessing.image import ImageDataGenerator\n",
    "import matplotlib.pyplot as plt\n",
    "from tensorflow.keras.layers import Dense, Input, Dropout, Conv2D, Flatten, Lambda\n",
    "from tensorflow.keras.layers import BatchNormalization, Activation, MaxPooling2D\n",
    "from tensorflow.keras.models import Model, Sequential\n",
    "from tensorflow.keras.optimizers import Adam\n",
    "from tensorflow.keras.callbacks import ModelCheckpoint, ReduceLROnPlateau\n",
    "from tensorflow.keras.utils import plot_model\n",
    "\n",
    "from IPython.display import SVG, Image\n",
    "import tensorflow as tf"
   ]
  },
  {
   "cell_type": "markdown",
   "id": "f86f1c7c",
   "metadata": {},
   "source": [
    "**Loading Dataset**"
   ]
  },
  {
   "cell_type": "code",
   "execution_count": 2,
   "id": "621b3ea4",
   "metadata": {},
   "outputs": [],
   "source": [
    "df_train_new = pd.read_csv(\"df_train_csv.csv\")\n",
    "df_test_new = pd.read_csv(\"df_test_csv.csv\")\n",
    "df_valid_new = pd.read_csv(\"df_valid_csv.csv\")"
   ]
  },
  {
   "cell_type": "markdown",
   "id": "725d2ff0",
   "metadata": {},
   "source": [
    "**Image Preprocessing**"
   ]
  },
  {
   "cell_type": "code",
   "execution_count": 9,
   "id": "32b31b64",
   "metadata": {},
   "outputs": [
    {
     "name": "stdout",
     "output_type": "stream",
     "text": [
      "Found 14594 validated image filenames belonging to 11 classes.\n",
      "Found 5064 validated image filenames belonging to 11 classes.\n"
     ]
    },
    {
     "name": "stderr",
     "output_type": "stream",
     "text": [
      "C:\\ProgramData\\anaconda3\\Lib\\site-packages\\keras\\src\\preprocessing\\image.py:1137: UserWarning: Found 24379 invalid image filename(s) in x_col=\"filename\". These filename(s) will be ignored.\n",
      "  warnings.warn(\n"
     ]
    },
    {
     "name": "stdout",
     "output_type": "stream",
     "text": [
      "Found 4848 validated image filenames belonging to 11 classes.\n"
     ]
    }
   ],
   "source": [
    "datagen_train = ImageDataGenerator(rescale=1./255)\n",
    "train_generator = datagen_train.flow_from_dataframe(df_train_new,\n",
    "                                             directory = \"C:/Users/Aaftab/Desktop/New folder/train/cropped\",\n",
    "                                             x_col = \"filename\",\n",
    "                                             y_col = \"class\",\n",
    "                                             target_size=(64,64),\n",
    "                                             batch_size=64,\n",
    "                                             class_mode='categorical',\n",
    "                                             shuffle=True)\n",
    "\n",
    "valid_generator = datagen_train.flow_from_dataframe(df_valid_new,\n",
    "                                             directory = \"C:/Users/Aaftab/Desktop/New folder/valid/cropped\",\n",
    "                                             x_col = \"filename\",\n",
    "                                             y_col = \"class\",\n",
    "                                             target_size=(64,64),\n",
    "                                             batch_size=64,\n",
    "                                             class_mode='categorical',\n",
    "                                             shuffle=False)\n",
    "\n",
    "datagen_test = ImageDataGenerator(rescale=1./255)\n",
    "test_generator = datagen_test.flow_from_dataframe(df_test_new,\n",
    "                                             directory = \"C:/Users/Aaftab/Desktop/New folder/test/cropped\",\n",
    "                                             x_col = \"filename\",\n",
    "                                             y_col = \"class\",\n",
    "                                             target_size=(64,64),\n",
    "                                             batch_size=128,\n",
    "                                             class_mode='categorical',\n",
    "                                             shuffle=False)"
   ]
  },
  {
   "cell_type": "markdown",
   "id": "c520df5d",
   "metadata": {},
   "source": [
    "**Model Definition**"
   ]
  },
  {
   "cell_type": "code",
   "execution_count": 4,
   "id": "ef0c69da",
   "metadata": {},
   "outputs": [],
   "source": [
    "def Convolution(input_tensor, filters, kernel_size):\n",
    "    x = Conv2D(filters=filters, kernel_size=kernel_size, padding=\"same\")(input_tensor)\n",
    "    x = BatchNormalization()(x)\n",
    "    x = Activation(\"relu\")(x)\n",
    "    x = Dropout(0.25)(x)\n",
    "    return x\n",
    "\n",
    "def Dense_f(input_tensor, nodes):\n",
    "    x = Dense(nodes)(input_tensor)\n",
    "    x = BatchNormalization()(x)\n",
    "    x = Activation(\"relu\")(x)\n",
    "    x = Dropout(0.25)(x)\n",
    "    return x\n",
    "\n",
    "def model_fer(input_shape):\n",
    "    inputs = Input(input_shape)\n",
    "    conv_1 = Convolution(inputs, 64, (3,3))\n",
    "    conv_2 = Convolution(conv_1, 128, (5,5))\n",
    "    conv_3 = Convolution(conv_2, 128, (3,3))\n",
    "    flatten = Flatten()(conv_3)\n",
    "    dense_1 = Dense_f(flatten, 64)\n",
    "    \n",
    "    output = Dense(11, activation=\"softmax\")(dense_1)\n",
    "    model = Model(inputs = [inputs], outputs = [output])\n",
    "    opt = Adam(learning_rate=0.0001)\n",
    "    model.compile(loss=[\"categorical_crossentropy\"], optimizer = opt, metrics = [\"accuracy\"])\n",
    "    return model"
   ]
  },
  {
   "cell_type": "markdown",
   "id": "0fa07c64",
   "metadata": {},
   "source": [
    "**Model Summary**"
   ]
  },
  {
   "cell_type": "code",
   "execution_count": 5,
   "id": "bb272009",
   "metadata": {},
   "outputs": [
    {
     "name": "stdout",
     "output_type": "stream",
     "text": [
      "WARNING:tensorflow:From C:\\ProgramData\\anaconda3\\Lib\\site-packages\\keras\\src\\backend.py:1398: The name tf.executing_eagerly_outside_functions is deprecated. Please use tf.compat.v1.executing_eagerly_outside_functions instead.\n",
      "\n",
      "WARNING:tensorflow:From C:\\ProgramData\\anaconda3\\Lib\\site-packages\\keras\\src\\layers\\normalization\\batch_normalization.py:979: The name tf.nn.fused_batch_norm is deprecated. Please use tf.compat.v1.nn.fused_batch_norm instead.\n",
      "\n",
      "Model: \"model\"\n",
      "_________________________________________________________________\n",
      " Layer (type)                Output Shape              Param #   \n",
      "=================================================================\n",
      " input_1 (InputLayer)        [(None, 64, 64, 3)]       0         \n",
      "                                                                 \n",
      " conv2d (Conv2D)             (None, 64, 64, 64)        1792      \n",
      "                                                                 \n",
      " batch_normalization (Batch  (None, 64, 64, 64)        256       \n",
      " Normalization)                                                  \n",
      "                                                                 \n",
      " activation (Activation)     (None, 64, 64, 64)        0         \n",
      "                                                                 \n",
      " dropout (Dropout)           (None, 64, 64, 64)        0         \n",
      "                                                                 \n",
      " conv2d_1 (Conv2D)           (None, 64, 64, 128)       204928    \n",
      "                                                                 \n",
      " batch_normalization_1 (Bat  (None, 64, 64, 128)       512       \n",
      " chNormalization)                                                \n",
      "                                                                 \n",
      " activation_1 (Activation)   (None, 64, 64, 128)       0         \n",
      "                                                                 \n",
      " dropout_1 (Dropout)         (None, 64, 64, 128)       0         \n",
      "                                                                 \n",
      " conv2d_2 (Conv2D)           (None, 64, 64, 128)       147584    \n",
      "                                                                 \n",
      " batch_normalization_2 (Bat  (None, 64, 64, 128)       512       \n",
      " chNormalization)                                                \n",
      "                                                                 \n",
      " activation_2 (Activation)   (None, 64, 64, 128)       0         \n",
      "                                                                 \n",
      " dropout_2 (Dropout)         (None, 64, 64, 128)       0         \n",
      "                                                                 \n",
      " flatten (Flatten)           (None, 524288)            0         \n",
      "                                                                 \n",
      " dense (Dense)               (None, 64)                33554496  \n",
      "                                                                 \n",
      " batch_normalization_3 (Bat  (None, 64)                256       \n",
      " chNormalization)                                                \n",
      "                                                                 \n",
      " activation_3 (Activation)   (None, 64)                0         \n",
      "                                                                 \n",
      " dropout_3 (Dropout)         (None, 64)                0         \n",
      "                                                                 \n",
      " dense_1 (Dense)             (None, 11)                715       \n",
      "                                                                 \n",
      "=================================================================\n",
      "Total params: 33911051 (129.36 MB)\n",
      "Trainable params: 33910283 (129.36 MB)\n",
      "Non-trainable params: 768 (3.00 KB)\n",
      "_________________________________________________________________\n"
     ]
    }
   ],
   "source": [
    "model = model_fer((64,64,3))\n",
    "model.summary()"
   ]
  },
  {
   "cell_type": "markdown",
   "id": "2241f236",
   "metadata": {},
   "source": [
    "**Model Training**"
   ]
  },
  {
   "cell_type": "code",
   "execution_count": 6,
   "id": "3e849450",
   "metadata": {},
   "outputs": [],
   "source": [
    "checkpoint = ModelCheckpoint(\"model_weights_new.h5\", monitor=\"val_accuracy\", save_weights_only=True, mode=\"max\", verbose=1)\n",
    "reduce_lr = ReduceLROnPlateau(monitor=\"val_loss\", factor=0.1, patience=2, min_lr=0.00001)\n",
    "callbacks = [checkpoint, reduce_lr]"
   ]
  },
  {
   "cell_type": "code",
   "execution_count": 7,
   "id": "b52e6df4",
   "metadata": {},
   "outputs": [
    {
     "name": "stdout",
     "output_type": "stream",
     "text": [
      "Epoch 1/20\n",
      "WARNING:tensorflow:From C:\\ProgramData\\anaconda3\\Lib\\site-packages\\keras\\src\\utils\\tf_utils.py:492: The name tf.ragged.RaggedTensorValue is deprecated. Please use tf.compat.v1.ragged.RaggedTensorValue instead.\n",
      "\n",
      "WARNING:tensorflow:From C:\\ProgramData\\anaconda3\\Lib\\site-packages\\keras\\src\\engine\\base_layer_utils.py:384: The name tf.executing_eagerly_outside_functions is deprecated. Please use tf.compat.v1.executing_eagerly_outside_functions instead.\n",
      "\n",
      "228/228 [==============================] - ETA: 0s - loss: 1.3862 - accuracy: 0.6398\n",
      "Epoch 1: saving model to model_weights_new.h5\n",
      "228/228 [==============================] - 455s 2s/step - loss: 1.3862 - accuracy: 0.6398 - val_loss: 1.7631 - val_accuracy: 0.6307 - lr: 1.0000e-04\n",
      "Epoch 2/20\n",
      "228/228 [==============================] - ETA: 0s - loss: 0.8764 - accuracy: 0.7745\n",
      "Epoch 2: saving model to model_weights_new.h5\n",
      "228/228 [==============================] - 465s 2s/step - loss: 0.8764 - accuracy: 0.7745 - val_loss: 1.5181 - val_accuracy: 0.6228 - lr: 1.0000e-04\n",
      "Epoch 3/20\n",
      "228/228 [==============================] - ETA: 0s - loss: 0.6714 - accuracy: 0.8251\n",
      "Epoch 3: saving model to model_weights_new.h5\n",
      "228/228 [==============================] - 458s 2s/step - loss: 0.6714 - accuracy: 0.8251 - val_loss: 1.1689 - val_accuracy: 0.6788 - lr: 1.0000e-04\n",
      "Epoch 4/20\n",
      "228/228 [==============================] - ETA: 0s - loss: 0.5844 - accuracy: 0.8396\n",
      "Epoch 4: saving model to model_weights_new.h5\n",
      "228/228 [==============================] - 453s 2s/step - loss: 0.5844 - accuracy: 0.8396 - val_loss: 1.0155 - val_accuracy: 0.6877 - lr: 1.0000e-04\n",
      "Epoch 5/20\n",
      "228/228 [==============================] - ETA: 0s - loss: 0.4539 - accuracy: 0.8774\n",
      "Epoch 5: saving model to model_weights_new.h5\n",
      "228/228 [==============================] - 453s 2s/step - loss: 0.4539 - accuracy: 0.8774 - val_loss: 0.9316 - val_accuracy: 0.7188 - lr: 1.0000e-04\n",
      "Epoch 6/20\n",
      "228/228 [==============================] - ETA: 0s - loss: 0.4551 - accuracy: 0.8691\n",
      "Epoch 6: saving model to model_weights_new.h5\n",
      "228/228 [==============================] - 457s 2s/step - loss: 0.4551 - accuracy: 0.8691 - val_loss: 0.9952 - val_accuracy: 0.7031 - lr: 1.0000e-04\n",
      "Epoch 7/20\n",
      "228/228 [==============================] - ETA: 0s - loss: 0.4283 - accuracy: 0.8774\n",
      "Epoch 7: saving model to model_weights_new.h5\n",
      "228/228 [==============================] - 463s 2s/step - loss: 0.4283 - accuracy: 0.8774 - val_loss: 1.1189 - val_accuracy: 0.6590 - lr: 1.0000e-04\n",
      "Epoch 8/20\n",
      "228/228 [==============================] - ETA: 0s - loss: 0.3657 - accuracy: 0.8999\n",
      "Epoch 8: saving model to model_weights_new.h5\n",
      "228/228 [==============================] - 467s 2s/step - loss: 0.3657 - accuracy: 0.8999 - val_loss: 0.9539 - val_accuracy: 0.7263 - lr: 1.0000e-05\n",
      "Epoch 9/20\n",
      "228/228 [==============================] - ETA: 0s - loss: 0.3179 - accuracy: 0.9178\n",
      "Epoch 9: saving model to model_weights_new.h5\n",
      "228/228 [==============================] - 460s 2s/step - loss: 0.3179 - accuracy: 0.9178 - val_loss: 0.9457 - val_accuracy: 0.7308 - lr: 1.0000e-05\n",
      "Epoch 10/20\n",
      "228/228 [==============================] - ETA: 0s - loss: 0.2957 - accuracy: 0.9217\n",
      "Epoch 10: saving model to model_weights_new.h5\n",
      "228/228 [==============================] - 458s 2s/step - loss: 0.2957 - accuracy: 0.9217 - val_loss: 0.9393 - val_accuracy: 0.7338 - lr: 1.0000e-05\n",
      "Epoch 11/20\n",
      "228/228 [==============================] - ETA: 0s - loss: 0.2838 - accuracy: 0.9243\n",
      "Epoch 11: saving model to model_weights_new.h5\n",
      "228/228 [==============================] - 498s 2s/step - loss: 0.2838 - accuracy: 0.9243 - val_loss: 0.9338 - val_accuracy: 0.7334 - lr: 1.0000e-05\n",
      "Epoch 12/20\n",
      "228/228 [==============================] - ETA: 0s - loss: 0.2692 - accuracy: 0.9312\n",
      "Epoch 12: saving model to model_weights_new.h5\n",
      "228/228 [==============================] - 502s 2s/step - loss: 0.2692 - accuracy: 0.9312 - val_loss: 0.9546 - val_accuracy: 0.7336 - lr: 1.0000e-05\n",
      "Epoch 13/20\n",
      "228/228 [==============================] - ETA: 0s - loss: 0.2563 - accuracy: 0.9348\n",
      "Epoch 13: saving model to model_weights_new.h5\n",
      "228/228 [==============================] - 471s 2s/step - loss: 0.2563 - accuracy: 0.9348 - val_loss: 0.9498 - val_accuracy: 0.7360 - lr: 1.0000e-05\n",
      "Epoch 14/20\n",
      "228/228 [==============================] - ETA: 0s - loss: 0.2473 - accuracy: 0.9372\n",
      "Epoch 14: saving model to model_weights_new.h5\n",
      "228/228 [==============================] - 463s 2s/step - loss: 0.2473 - accuracy: 0.9372 - val_loss: 0.9524 - val_accuracy: 0.7298 - lr: 1.0000e-05\n",
      "Epoch 15/20\n",
      "228/228 [==============================] - ETA: 0s - loss: 0.2325 - accuracy: 0.9425\n",
      "Epoch 15: saving model to model_weights_new.h5\n",
      "228/228 [==============================] - 463s 2s/step - loss: 0.2325 - accuracy: 0.9425 - val_loss: 0.9424 - val_accuracy: 0.7407 - lr: 1.0000e-05\n",
      "Epoch 16/20\n",
      "228/228 [==============================] - ETA: 0s - loss: 0.2358 - accuracy: 0.9412\n",
      "Epoch 16: saving model to model_weights_new.h5\n",
      "228/228 [==============================] - 463s 2s/step - loss: 0.2358 - accuracy: 0.9412 - val_loss: 0.9472 - val_accuracy: 0.7371 - lr: 1.0000e-05\n",
      "Epoch 17/20\n",
      "228/228 [==============================] - ETA: 0s - loss: 0.2229 - accuracy: 0.9458\n",
      "Epoch 17: saving model to model_weights_new.h5\n",
      "228/228 [==============================] - 462s 2s/step - loss: 0.2229 - accuracy: 0.9458 - val_loss: 0.9573 - val_accuracy: 0.7310 - lr: 1.0000e-05\n",
      "Epoch 18/20\n",
      "228/228 [==============================] - ETA: 0s - loss: 0.2143 - accuracy: 0.9488\n",
      "Epoch 18: saving model to model_weights_new.h5\n",
      "228/228 [==============================] - 462s 2s/step - loss: 0.2143 - accuracy: 0.9488 - val_loss: 0.9334 - val_accuracy: 0.7401 - lr: 1.0000e-05\n",
      "Epoch 19/20\n",
      "228/228 [==============================] - ETA: 0s - loss: 0.2053 - accuracy: 0.9516\n",
      "Epoch 19: saving model to model_weights_new.h5\n",
      "228/228 [==============================] - 457s 2s/step - loss: 0.2053 - accuracy: 0.9516 - val_loss: 0.9443 - val_accuracy: 0.7389 - lr: 1.0000e-05\n",
      "Epoch 20/20\n",
      "228/228 [==============================] - ETA: 0s - loss: 0.2048 - accuracy: 0.9495\n",
      "Epoch 20: saving model to model_weights_new.h5\n",
      "228/228 [==============================] - 467s 2s/step - loss: 0.2048 - accuracy: 0.9495 - val_loss: 0.9268 - val_accuracy: 0.7456 - lr: 1.0000e-05\n"
     ]
    }
   ],
   "source": [
    "history = model.fit(\n",
    "x = train_generator,\n",
    "steps_per_epoch = train_generator.n//train_generator.batch_size,\n",
    "epochs = 20,\n",
    "validation_data = valid_generator,\n",
    "validation_steps = valid_generator.n//valid_generator.batch_size,\n",
    "callbacks = callbacks)"
   ]
  },
  {
   "cell_type": "markdown",
   "id": "8b26ccb8",
   "metadata": {},
   "source": [
    "**Model Evaluation**"
   ]
  },
  {
   "cell_type": "code",
   "execution_count": 10,
   "id": "073c5433",
   "metadata": {},
   "outputs": [
    {
     "name": "stdout",
     "output_type": "stream",
     "text": [
      "38/38 [==============================] - 32s 840ms/step - loss: 0.6301 - accuracy: 0.8129\n"
     ]
    },
    {
     "data": {
      "text/plain": [
       "[0.6300544142723083, 0.8129125237464905]"
      ]
     },
     "execution_count": 10,
     "metadata": {},
     "output_type": "execute_result"
    }
   ],
   "source": [
    "model.evaluate(test_generator)"
   ]
  },
  {
   "cell_type": "markdown",
   "id": "8ca73eb3",
   "metadata": {},
   "source": [
    "**Plotting Loss**"
   ]
  },
  {
   "cell_type": "code",
   "execution_count": 15,
   "id": "e4255627",
   "metadata": {},
   "outputs": [
    {
     "data": {
      "text/plain": [
       "<matplotlib.legend.Legend at 0x152279bd350>"
      ]
     },
     "execution_count": 15,
     "metadata": {},
     "output_type": "execute_result"
    },
    {
     "data": {
      "image/png": "[encoded data removed]",
      "text/plain": [
       "<Figure size 640x480 with 1 Axes>"
      ]
     },
     "metadata": {},
     "output_type": "display_data"
    }
   ],
   "source": [
    "plt.plot(history.history['loss'])\n",
    "plt.plot(history.history['val_loss'])\n",
    "plt.title(\"Model Loss\")\n",
    "plt.legend([\"Train\",\"Validation\"], loc=\"upper left\")\n",
    "#plt.subplots_adjust(top=1.0, bottom=0.0, right=0.95, left=0.0, hspace=0.25, wspace=0.35)"
   ]
  },
  {
   "cell_type": "markdown",
   "id": "69abc7cb",
   "metadata": {},
   "source": [
    "**Model Accuracy**"
   ]
  },
  {
   "cell_type": "code",
   "execution_count": 14,
   "id": "ac399d3d",
   "metadata": {},
   "outputs": [
    {
     "data": {
      "text/plain": [
       "<matplotlib.legend.Legend at 0x151c0319f10>"
      ]
     },
     "execution_count": 14,
     "metadata": {},
     "output_type": "execute_result"
    },
    {
     "data": {
      "image/png": "[encoded data removed]",
      "text/plain": [
       "<Figure size 640x480 with 1 Axes>"
      ]
     },
     "metadata": {},
     "output_type": "display_data"
    }
   ],
   "source": [
    "plt.plot(history.history[\"accuracy\"])\n",
    "plt.plot(history.history[\"val_accuracy\"])\n",
    "plt.title(\"Model Accuracy\")\n",
    "plt.legend([\"Train\",\"Validation\"], loc=\"upper left\")\n",
    "#plt.subplots_adjust(top=1.0, bottom=0.0, right=0.95, left=0.0, hspace=0.25, wspace=0.35)"
   ]
  },
  {
   "cell_type": "markdown",
   "id": "58ca7ac9",
   "metadata": {},
   "source": [
    "**Saving Model**"
   ]
  },
  {
   "cell_type": "code",
   "execution_count": 20,
   "id": "86ecef7b",
   "metadata": {},
   "outputs": [
    {
     "name": "stdout",
     "output_type": "stream",
     "text": [
      "Model saved.\n"
     ]
    }
   ],
   "source": [
    "model_json = model.to_json()\n",
    "with open(\"model_a.json\", \"w\") as file:\n",
    "    file.write(model_json)\n",
    "    print(\"Model saved.\")"
   ]
  },
  {
   "cell_type": "code",
   "execution_count": null,
   "id": "d127c9bc",
   "metadata": {},
   "outputs": [],
   "source": []
  }
 ],
 "metadata": {
  "kernelspec": {
   "display_name": "Python 3 (ipykernel)",
   "language": "python",
   "name": "python3"
  },
  "language_info": {
   "codemirror_mode": {
    "name": "ipython",
    "version": 3
   },
   "file_extension": ".py",
   "mimetype": "text/x-python",
   "name": "python",
   "nbconvert_exporter": "python",
   "pygments_lexer": "ipython3",
   "version": "3.11.5"
  }
 },
 "nbformat": 4,
 "nbformat_minor": 5
}
